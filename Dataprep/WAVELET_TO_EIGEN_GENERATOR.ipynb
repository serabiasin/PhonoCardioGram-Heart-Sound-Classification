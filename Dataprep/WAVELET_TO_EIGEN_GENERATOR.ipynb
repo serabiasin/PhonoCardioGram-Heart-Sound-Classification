{
  "cells": [
    {
      "cell_type": "code",
      "execution_count": null,
      "metadata": {
        "id": "aCvzYxjJEF8J"
      },
      "outputs": [],
      "source": [
        "from sklearn.preprocessing import LabelEncoder\n",
        "from sklearn.decomposition import PCA\n",
        "import os\n",
        "import librosa\n",
        "import numpy as np\n",
        "import pywt\n",
        "from scipy import signal\n",
        "from sklearn.preprocessing import StandardScaler"
      ]
    },
    {
      "cell_type": "code",
      "execution_count": null,
      "metadata": {
        "colab": {
          "base_uri": "https://localhost:8080/",
          "height": 34
        },
        "id": "wpGB4Ysje84M",
        "outputId": "ab5a9a17-789b-4ae5-fb67-07bb9e827be7"
      },
      "outputs": [
        {
          "name": "stdout",
          "output_type": "stream",
          "text": [
            "301 3240\n"
          ]
        }
      ],
      "source": [
        "\n",
        "\n",
        "DataTrain=\"Dataset/DatasetListTrain.txt\"\n",
        "DataTrainLabel=\"Dataset/DatasetLabelTrain.txt\"\n",
        "\n",
        "DataValidLabel=\"Dataset/DatasetLabelVal.txt\"\n",
        "DataVal=\"Dataset/DatasetListVal.txt\"\n",
        "\n",
        "#train\n",
        "f = open(DataTrain, \"r\")\n",
        "g=open(DataTrainLabel, \"r\")\n",
        "\n",
        "preDataT=[]\n",
        "preLabelT=[]\n",
        "\n",
        "for x in g:\n",
        "  preLabelT.append(x.strip('\\n'))\n",
        "g.close()\n",
        "\n",
        "\n",
        "for x in f:\n",
        "  preDataT.append(x.strip('\\n'))\n",
        "f.close()\n",
        "\n",
        "#validation\n",
        "\n",
        "preDataV=[]\n",
        "preLabelV=[]\n",
        "\n",
        "a=open(DataValidLabel, \"r\")\n",
        "for x in a:\n",
        "  preLabelV.append(x.strip('\\n'))\n",
        "a.close()\n",
        "\n",
        "b = open(DataVal, \"r\")\n",
        "for x in b:\n",
        "  preDataV.append(x.strip('\\n'))\n",
        "b.close()\n",
        "\n",
        "\n",
        "labelV=np.array(preLabelV)\n",
        "labelV=labelV.astype(int)\n",
        "dataSetV=np.array(preDataV)\n",
        "labelT=np.array(preLabelT)\n",
        "labelT=labelT.astype(int)\n",
        "dataSetT=np.array(preDataT)\n",
        "\n",
        "print(labelV.shape[0],labelT.shape[0])"
      ]
    },
    {
      "cell_type": "code",
      "execution_count": null,
      "metadata": {
        "id": "1dymHHqf5i2j"
      },
      "outputs": [],
      "source": [
        "n_param=130"
      ]
    },
    {
      "cell_type": "code",
      "execution_count": null,
      "metadata": {
        "id": "rAi5BRoNTa3D"
      },
      "outputs": [],
      "source": [
        "def waveletToEigen(path):\n",
        "\n",
        "  scale=np.arange(30,160)\n",
        "  x,sr=librosa.load(path,sr=None)\n",
        "  x=x[:sr*5]\n",
        "  sos = signal.butter(4, [25, 300], 'bandpass', fs=800, output='sos')\n",
        "  filtered = signal.sosfilt(sos, x)\n",
        "  \n",
        "  buffer=np.reshape(x,(-1,1))\n",
        "  scaler = StandardScaler()\n",
        "  scaler = scaler.fit(buffer)\n",
        "  normalized = scaler.transform(buffer)\n",
        "  normalized=normalized.flatten()\n",
        "  Motherwavelet=pywt.ContinuousWavelet('morl')\n",
        "  [coefficient,freq]=pywt.cwt(normalized,scale,wavelet=Motherwavelet)\n",
        "  pca = PCA(n_components=n_param) \n",
        "  return pca.fit_transform(coefficient)\n",
        "   "
      ]
    },
    {
      "cell_type": "code",
      "execution_count": null,
      "metadata": {
        "id": "2U4ynPn1HYWi"
      },
      "outputs": [],
      "source": [
        "targetOutput=\"Dataset/eigenDataTrain100percent.npy\""
      ]
    },
    {
      "cell_type": "code",
      "execution_count": null,
      "metadata": {
        "id": "CIacYYIm47B8"
      },
      "outputs": [],
      "source": [
        "\n",
        "\n",
        "coefficient_matrix=[] \n",
        "for path in dataSetT:\n",
        "    coefficient_matrix.append(waveletToEigen(path))\n",
        "    print(path)"
      ]
    },
    {
      "cell_type": "code",
      "execution_count": null,
      "metadata": {
        "id": "JYiULco1Gn9h"
      },
      "outputs": [],
      "source": [
        "np.save(targetOutput,np.array(coefficient_matrix))"
      ]
    },
    {
      "cell_type": "code",
      "execution_count": null,
      "metadata": {
        "id": "CPHNODsfRmxA"
      },
      "outputs": [],
      "source": [
        "targetOutput=\"Dataset/eigenDataValid100percent.npy\""
      ]
    },
    {
      "cell_type": "code",
      "execution_count": null,
      "metadata": {
        "colab": {
          "base_uri": "https://localhost:8080/",
          "height": 1000
        },
        "id": "tHdGhSTyIqOO",
        "outputId": "17d8037d-21cd-4107-c3ad-8211e0db5ef9"
      },
      "outputs": [],
      "source": [
        "coefficient_matrix=[]\n",
        "for path in dataSetV:\n",
        "    coefficient_matrix.append(waveletToEigen(path))\n",
        "    print(path)"
      ]
    },
    {
      "cell_type": "code",
      "execution_count": null,
      "metadata": {
        "id": "Phqnr3OoN9fa"
      },
      "outputs": [],
      "source": [
        "np.save(targetOutput,np.array(coefficient_matrix))"
      ]
    },
    {
      "cell_type": "code",
      "execution_count": null,
      "metadata": {
        "colab": {
          "base_uri": "https://localhost:8080/",
          "height": 34
        },
        "id": "N4lLd0OuVnin",
        "outputId": "5046a29c-a010-4027-9f3e-99d988d3d009"
      },
      "outputs": [
        {
          "name": "stdout",
          "output_type": "stream",
          "text": [
            "(301, 130, 130)\n"
          ]
        }
      ],
      "source": [
        "print(np.array(coefficient_matrix).shape)"
      ]
    },
    {
      "cell_type": "code",
      "execution_count": null,
      "metadata": {
        "colab": {
          "base_uri": "https://localhost:8080/",
          "height": 34
        },
        "id": "BPkHyrWiflvv",
        "outputId": "d912ceb2-405d-457c-e457-86d2ca47a204"
      },
      "outputs": [
        {
          "name": "stdout",
          "output_type": "stream",
          "text": [
            "(301, 130, 98)\n"
          ]
        }
      ],
      "source": [
        "print(np.load(targetOutput).shape)"
      ]
    }
  ],
  "metadata": {
    "colab": {
      "collapsed_sections": [],
      "name": "WAVELET TO EIGEN GENERATOR[Train].ipynb",
      "provenance": []
    },
    "kernelspec": {
      "display_name": "Python 3",
      "name": "python3"
    }
  },
  "nbformat": 4,
  "nbformat_minor": 0
}
