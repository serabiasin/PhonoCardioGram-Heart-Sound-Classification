{
  "cells": [
    {
      "cell_type": "code",
      "execution_count": null,
      "metadata": {
        "id": "EP738Tlcjoyg"
      },
      "outputs": [],
      "source": [
        "import pywt\n",
        "import librosa\n",
        "import numpy as np\n",
        "import csv\n",
        "import os"
      ]
    },
    {
      "cell_type": "code",
      "execution_count": null,
      "metadata": {
        "id": "XBJ3teJrW-HL"
      },
      "outputs": [],
      "source": [
        "#link dataset credited to physionet : https://physionet.org/files/challenge-2016/1.0.0/training.zip\n",
        "!mkdir Dataset\n",
        "%cd Dataset\n",
        "!wget https://physionet.org/files/challenge-2016/1.0.0/training.zip\n",
        "!unzip training.zip"
      ]
    },
    {
      "cell_type": "markdown",
      "metadata": {
        "id": "bU672fLtK1Yj"
      },
      "source": [
        "Note : \n",
        "\n",
        "\n",
        "*   1 = Abnormal Heart Sound\n",
        "*   -1 = Normal Heart Sound\n",
        "\n",
        "\n"
      ]
    },
    {
      "cell_type": "code",
      "execution_count": null,
      "metadata": {
        "id": "CO89K16McyXT"
      },
      "outputs": [],
      "source": [
        "#DATASET A\n",
        "datasetA=\"Dataset/training-a/REFERENCE.csv\"\n",
        "listDataPathA=[]\n",
        "listDataLabelA=[]\n",
        "\n",
        "with open( datasetA ) as csv_file:\n",
        "    csv_reader = csv.reader(csv_file, delimiter=',')\n",
        "    indeks=0\n",
        "    for row in csv_reader:\n",
        "      listDataPathA.append(os.path.join('Dataset/training-a',row[0]+'.wav'))\n",
        "      listDataLabelA.append(row[1])\n"
      ]
    },
    {
      "cell_type": "code",
      "execution_count": null,
      "metadata": {
        "id": "FFjmhv_nJPVZ"
      },
      "outputs": [],
      "source": [
        "#DATASET B\n",
        "datasetB=\"Dataset/training-b/REFERENCE.csv\"\n",
        "listDataPathB=[]\n",
        "listDataLabelB=[]\n",
        "\n",
        "with open( datasetB ) as csv_file:\n",
        "    csv_reader = csv.reader(csv_file, delimiter=',')\n",
        "    indeks=0\n",
        "    for row in csv_reader:\n",
        "      listDataPathB.append(os.path.join('Dataset/training-b',row[0]+'.wav'))\n",
        "      listDataLabelB.append(row[1])\n"
      ]
    },
    {
      "cell_type": "code",
      "execution_count": null,
      "metadata": {
        "id": "XJgk_9FMLHHg"
      },
      "outputs": [],
      "source": [
        "#DATASET C\n",
        "datasetC=\"Dataset/training-c/REFERENCE.csv\"\n",
        "listDataPathC=[]\n",
        "listDataLabelC=[]\n",
        "\n",
        "with open( datasetC ) as csv_file:\n",
        "    csv_reader = csv.reader(csv_file, delimiter=',')\n",
        "    indeks=0\n",
        "    for row in csv_reader:\n",
        "      listDataPathC.append(os.path.join('Dataset/training-c',row[0]+'.wav'))\n",
        "      listDataLabelC.append(row[1])\n"
      ]
    },
    {
      "cell_type": "code",
      "execution_count": null,
      "metadata": {
        "id": "-b4xKYqzLx0u"
      },
      "outputs": [],
      "source": [
        "#DATASET D\n",
        "datasetD=\"Dataset/training-d/REFERENCE.csv\"\n",
        "listDataPathD=[]\n",
        "listDataLabelD=[]\n",
        "\n",
        "with open( datasetD ) as csv_file:\n",
        "    csv_reader = csv.reader(csv_file, delimiter=',')\n",
        "    indeks=0\n",
        "    for row in csv_reader:\n",
        "      listDataPathD.append(os.path.join('Dataset/training-d',row[0]+'.wav'))\n",
        "      listDataLabelD.append(row[1])"
      ]
    },
    {
      "cell_type": "code",
      "execution_count": null,
      "metadata": {
        "id": "fkmlz2WaMfga"
      },
      "outputs": [],
      "source": [
        "#DATASET E\n",
        "datasetE=\"training-e/REFERENCE.csv\"\n",
        "listDataPathE=[]\n",
        "listDataLabelE=[]\n",
        "\n",
        "with open( datasetE ) as csv_file:\n",
        "    csv_reader = csv.reader(csv_file, delimiter=',')\n",
        "    indeks=0\n",
        "    for row in csv_reader:\n",
        "      listDataPathE.append(os.path.join('Dataset/training-e',row[0]+'.wav'))\n",
        "      listDataLabelE.append(row[1])"
      ]
    },
    {
      "cell_type": "code",
      "execution_count": null,
      "metadata": {
        "id": "g399tEjGNcoe"
      },
      "outputs": [],
      "source": [
        "#DATASET F\n",
        "datasetF=\"training-f/REFERENCE.csv\"\n",
        "listDataPathF=[]\n",
        "listDataLabelF=[]\n",
        "\n",
        "with open( datasetF ) as csv_file:\n",
        "    csv_reader = csv.reader(csv_file, delimiter=',')\n",
        "    indeks=0\n",
        "    for row in csv_reader:\n",
        "      listDataPathF.append(os.path.join('Dataset/training-f',row[0]+'.wav'))\n",
        "      listDataLabelF.append(row[1])"
      ]
    },
    {
      "cell_type": "code",
      "execution_count": null,
      "metadata": {
        "id": "ft10VDs1N11B"
      },
      "outputs": [],
      "source": [
        "#Merge Dataset\n",
        "datasetTrain=[]\n",
        "datasetLabelTrain=[]\n",
        "datasetTrain=listDataPathA+listDataPathB+listDataPathC+listDataPathD+listDataPathE+listDataPathF\n",
        "datasetLabelTrain=listDataLabelA+listDataLabelB+listDataLabelC+listDataLabelD+listDataLabelE+listDataLabelF"
      ]
    },
    {
      "cell_type": "code",
      "execution_count": null,
      "metadata": {
        "id": "ADookVLBOh2t"
      },
      "outputs": [],
      "source": [
        "#List to file\n",
        "with open('Dataset/DatasetListTrain.txt', 'w') as filehandle:\n",
        "    for listitem in datasetTrain:\n",
        "        filehandle.write('%s\\n' % listitem)\n",
        "\n",
        "with open('Dataset/DatasetLabelTrain.txt', 'w') as filehandle:\n",
        "    for listitem in datasetLabelTrain:\n",
        "        filehandle.write('%s\\n' % listitem)"
      ]
    },
    {
      "cell_type": "code",
      "execution_count": null,
      "metadata": {
        "id": "at0M1VWLvDb_"
      },
      "outputs": [],
      "source": [
        "#VALIDATION SET \n",
        "referenceVal=\"Dataset/validation/REFERENCE.csv\"\n",
        "listDataVal=[]\n",
        "listDataLabelVal=[]"
      ]
    },
    {
      "cell_type": "code",
      "execution_count": null,
      "metadata": {
        "id": "icbIR0KvNjg2"
      },
      "outputs": [],
      "source": [
        "with open( referenceVal ) as csv_file:\n",
        "    csv_reader = csv.reader(csv_file, delimiter=',')\n",
        "    indeks=0\n",
        "    for row in csv_reader:\n",
        "      listDataVal.append(os.path.join('Dataset/validation',row[0]+'.wav'))\n",
        "      listDataLabelVal.append(row[1])"
      ]
    },
    {
      "cell_type": "code",
      "execution_count": null,
      "metadata": {
        "id": "XECGRIx7NyOl"
      },
      "outputs": [],
      "source": [
        "#List to file\n",
        "with open('Dataset/DatasetListVal.txt', 'w') as filehandle:\n",
        "    for listitem in listDataVal:\n",
        "        filehandle.write('%s\\n' % listitem)\n",
        "\n",
        "with open('Dataset/DatasetLabelVal.txt', 'w') as filehandle:\n",
        "    for listitem in listDataLabelVal:\n",
        "        filehandle.write('%s\\n' % listitem)"
      ]
    }
  ],
  "metadata": {
    "colab": {
      "collapsed_sections": [],
      "name": "DATA PREPARATION.ipynb",
      "provenance": []
    },
    "kernelspec": {
      "display_name": "Python 3",
      "name": "python3"
    }
  },
  "nbformat": 4,
  "nbformat_minor": 0
}
